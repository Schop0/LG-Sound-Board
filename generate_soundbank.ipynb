{
 "cells": [
  {
   "cell_type": "code",
   "execution_count": 1,
   "metadata": {},
   "outputs": [],
   "source": [
    "import torchaudio\n",
    "import os\n",
    "import sys"
   ]
  },
  {
   "cell_type": "code",
   "execution_count": 14,
   "metadata": {},
   "outputs": [],
   "source": [
    "if sys.platform.startswith('linux') or sys.platform == 'darwin':\n",
    "    torchaudio.set_audio_backend('sox_io')\n",
    "else:\n",
    "    torchaudio.set_audio_backend('soundfile')"
   ]
  },
  {
   "cell_type": "code",
   "execution_count": 15,
   "metadata": {},
   "outputs": [],
   "source": [
    "original_dir = 'sounds/original/'\n",
    "converted_dir = 'sounds/converted/'\n",
    "\n",
    "target_sample_rate = 22000"
   ]
  },
  {
   "cell_type": "code",
   "execution_count": 19,
   "metadata": {},
   "outputs": [],
   "source": [
    "def convert_audio(filename):\n",
    "    audio = torchaudio.load(filename)\n",
    "    audio_metadata = torchaudio.info(filename)\n",
    "    resampler = torchaudio.transforms.Resample(audio_metadata.sample_rate, target_sample_rate)\n",
    "    torchaudio.save(converted_dir+filename.name.split('.')[0]+'.wav', src=resampler(audio[0]), sample_rate=target_sample_rate, bits_per_sample=8, format='wav', encoding='PCM_U')"
   ]
  },
  {
   "cell_type": "code",
   "execution_count": 25,
   "metadata": {},
   "outputs": [
    {
     "name": "stdout",
     "output_type": "stream",
     "text": [
      "Converting sounds/original/ambulance.wav\n",
      "Converting sounds/original/mobile.wav\n",
      "Converting sounds/original/horn.wav\n",
      "Converting sounds/original/handgun.wav\n",
      "Converting sounds/original/transition.wav\n",
      "Converting sounds/original/movement.wav\n",
      "Converting sounds/original/train_whistle.wav\n",
      "Converting sounds/original/ghost_whoosh.wav\n",
      "Converting sounds/original/window_break.wav\n",
      "Converting sounds/original/dial_up.opus\n",
      "Converting sounds/original/windows_95.m4a\n",
      "Converting sounds/original/matrix_printer.wav\n",
      "Converting sounds/original/bullet.wav\n",
      "Converting sounds/original/dog.wav\n",
      "Converting sounds/original/futuristic_gunshot.wav\n",
      "Converting sounds/original/glass.wav\n"
     ]
    }
   ],
   "source": [
    "for filename in os.scandir('sounds/original'):\n",
    "    if filename.is_file():\n",
    "        print(f\"Converting {filename.path}\")\n",
    "        convert_audio(filename.path)"
   ]
  },
  {
   "cell_type": "code",
   "execution_count": 61,
   "metadata": {},
   "outputs": [],
   "source": [
    "files = [filename.name for filename in os.scandir(converted_dir) if filename.is_file()]"
   ]
  },
  {
   "cell_type": "code",
   "execution_count": 62,
   "metadata": {},
   "outputs": [],
   "source": [
    "NUMBER_OF_SOUND_BANKS = len(files) // 15 + 1\n",
    "# fill remaining slots with last filename\n",
    "files += (15 - len(files) % 15) * [files[-1]]\n",
    "# add empty filename at next button\n",
    "for i in range(NUMBER_OF_SOUND_BANKS):\n",
    "    files.insert(i*15+i, \"\")"
   ]
  },
  {
   "cell_type": "code",
   "execution_count": 65,
   "metadata": {},
   "outputs": [
    {
     "name": "stdout",
     "output_type": "stream",
     "text": [
      "static const char *sound_files[NUMBER_OF_SOUND_BANKS][GRID_SIZE * GRID_SIZE + 1] = {\n",
      "    {\"\",\n",
      "     \"\", \"ambulance.wav\", \"mobile.wav\", \"horn.wav\",\n",
      "     \"handgun.wav\", \"transition.wav\", \"windows_95.wav\", \"movement.wav\",\n",
      "     \"train_whistle.wav\", \"ghost_whoosh.wav\", \"window_break.wav\", \"matrix_printer.wav\",\n",
      "     \"bullet.wav\", \"dog.wav\", \"dial_up.wav\", \"futuristic_gunshot.wav\"},\n",
      "    {\"\",\n",
      "     \"\", \"glass.wav\", \"glass.wav\", \"glass.wav\",\n",
      "     \"glass.wav\", \"glass.wav\", \"glass.wav\", \"glass.wav\",\n",
      "     \"glass.wav\", \"glass.wav\", \"glass.wav\", \"glass.wav\",\n",
      "     \"glass.wav\", \"glass.wav\", \"glass.wav\", \"glass.wav\"},\n",
      "};\n"
     ]
    }
   ],
   "source": [
    "print(\"\"\"static const char *sound_files[NUMBER_OF_SOUND_BANKS][GRID_SIZE * GRID_SIZE + 1] = {\"\"\")\n",
    "for bank in range(NUMBER_OF_SOUND_BANKS):\n",
    "    print(\"\"\"    {\"\",\"\"\")\n",
    "    for row in range(4):\n",
    "        print(5*' ', end='')\n",
    "        for col in range(4):\n",
    "            print(f'\"{files[bank*16+row*4+col]}\"', end='')\n",
    "            if row == 3 and col == 3:\n",
    "                print(\"},\")\n",
    "            elif col==3:\n",
    "                print(\",\")\n",
    "            else:\n",
    "                print(\", \", end='')\n",
    "print(\"};\")"
   ]
  },
  {
   "cell_type": "code",
   "execution_count": null,
   "metadata": {},
   "outputs": [],
   "source": []
  }
 ],
 "metadata": {
  "kernelspec": {
   "display_name": "Python 3.8.10 ('tf')",
   "language": "python",
   "name": "python3"
  },
  "language_info": {
   "codemirror_mode": {
    "name": "ipython",
    "version": 3
   },
   "file_extension": ".py",
   "mimetype": "text/x-python",
   "name": "python",
   "nbconvert_exporter": "python",
   "pygments_lexer": "ipython3",
   "version": "3.8.10"
  },
  "orig_nbformat": 4,
  "vscode": {
   "interpreter": {
    "hash": "782d74231477481db0ce5522104a44b0c997d4cfe5e40c8b0cc697bad5a4e538"
   }
  }
 },
 "nbformat": 4,
 "nbformat_minor": 2
}
