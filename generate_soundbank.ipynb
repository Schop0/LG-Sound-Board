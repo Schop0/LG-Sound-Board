{
 "cells": [
  {
   "cell_type": "code",
   "execution_count": 17,
   "metadata": {},
   "outputs": [],
   "source": [
    "import torch\n",
    "import torchaudio\n",
    "import os\n",
    "import sys"
   ]
  },
  {
   "cell_type": "code",
   "execution_count": 2,
   "metadata": {},
   "outputs": [],
   "source": [
    "if sys.platform.startswith('linux') or sys.platform == 'darwin':\n",
    "    torchaudio.set_audio_backend('sox_io')\n",
    "else:\n",
    "    torchaudio.set_audio_backend('soundfile')"
   ]
  },
  {
   "cell_type": "code",
   "execution_count": 19,
   "metadata": {},
   "outputs": [],
   "source": [
    "original_dir = 'sounds/original/'\n",
    "converted_dir = 'sounds/converted/'\n",
    "\n",
    "target_sample_rate = 32000"
   ]
  },
  {
   "cell_type": "code",
   "execution_count": 20,
   "metadata": {},
   "outputs": [],
   "source": [
    "def convert_audio(filename):\n",
    "    audio, sample_rate = torchaudio.load(filename.path)\n",
    "    audio_mono = torch.mean(audio, dim=0).unsqueeze(0)\n",
    "    resampler = torchaudio.transforms.Resample(sample_rate, target_sample_rate)\n",
    "    print(f\"Resample from {sample_rate} to {target_sample_rate}\")\n",
    "    torchaudio.save(converted_dir+filename.name.split('.')[0]+'.wav', src=resampler(audio_mono), sample_rate=target_sample_rate, bits_per_sample=8, format='wav', encoding='PCM_U')"
   ]
  },
  {
   "cell_type": "code",
   "execution_count": 21,
   "metadata": {},
   "outputs": [
    {
     "name": "stdout",
     "output_type": "stream",
     "text": [
      "Converting sounds/original/ambulance.wav\n",
      "Resample from 32000 to 32000\n",
      "Converting sounds/original/mobile.wav\n",
      "Resample from 32000 to 32000\n",
      "Converting sounds/original/horn.wav\n",
      "Resample from 32000 to 32000\n",
      "Converting sounds/original/handgun.wav\n",
      "Resample from 32000 to 32000\n",
      "Converting sounds/original/transition.wav\n",
      "Resample from 32000 to 32000\n",
      "Converting sounds/original/movement.wav\n",
      "Resample from 32000 to 32000\n",
      "Converting sounds/original/train_whistle.wav\n",
      "Resample from 32000 to 32000\n",
      "Converting sounds/original/ghost_whoosh.wav\n",
      "Resample from 32000 to 32000\n",
      "Converting sounds/original/window_break.wav\n",
      "Resample from 32000 to 32000\n",
      "Converting sounds/original/dial_up.opus\n",
      "Resample from 32000 to 32000\n",
      "Converting sounds/original/windows_95.m4a\n",
      "Resample from 32000 to 32000\n",
      "Converting sounds/original/matrix_printer.wav\n",
      "Resample from 32000 to 32000\n",
      "Converting sounds/original/bullet.wav\n",
      "Resample from 32000 to 32000\n",
      "Converting sounds/original/dog.wav\n",
      "Resample from 32000 to 32000\n",
      "Converting sounds/original/futuristic_gunshot.wav\n",
      "Resample from 32000 to 32000\n",
      "Converting sounds/original/glass.wav\n",
      "Resample from 32000 to 32000\n"
     ]
    }
   ],
   "source": [
    "for filename in os.scandir('sounds/original'):\n",
    "    if filename.is_file():\n",
    "        print(f\"Converting {filename.path}\")\n",
    "        convert_audio(filename)"
   ]
  },
  {
   "cell_type": "code",
   "execution_count": 22,
   "metadata": {},
   "outputs": [],
   "source": [
    "files = [filename.name for filename in os.scandir(converted_dir) if filename.is_file()]"
   ]
  },
  {
   "cell_type": "code",
   "execution_count": 23,
   "metadata": {},
   "outputs": [],
   "source": [
    "NUMBER_OF_SOUND_BANKS = len(files) // 15 + 1\n",
    "# fill remaining slots with last filename\n",
    "files += (15 - len(files) % 15) * [files[-1]]\n",
    "# add empty filename at next button\n",
    "for i in range(NUMBER_OF_SOUND_BANKS):\n",
    "    files.insert(i*15+i, \"\")\n",
    "files = [\"\"] + files"
   ]
  },
  {
   "cell_type": "code",
   "execution_count": 24,
   "metadata": {},
   "outputs": [
    {
     "name": "stdout",
     "output_type": "stream",
     "text": [
      "const char filename_0[] PROGMEM = \"\";\n",
      "const char filename_1[] PROGMEM = \"\";\n",
      "const char filename_2[] PROGMEM = \"ambulance.wav\";\n",
      "const char filename_3[] PROGMEM = \"mobile.wav\";\n",
      "const char filename_4[] PROGMEM = \"horn.wav\";\n",
      "const char filename_5[] PROGMEM = \"handgun.wav\";\n",
      "const char filename_6[] PROGMEM = \"transition.wav\";\n",
      "const char filename_7[] PROGMEM = \"windows_95.wav\";\n",
      "const char filename_8[] PROGMEM = \"movement.wav\";\n",
      "const char filename_9[] PROGMEM = \"train_whistle.wav\";\n",
      "const char filename_10[] PROGMEM = \"ghost_whoosh.wav\";\n",
      "const char filename_11[] PROGMEM = \"window_break.wav\";\n",
      "const char filename_12[] PROGMEM = \"matrix_printer.wav\";\n",
      "const char filename_13[] PROGMEM = \"bullet.wav\";\n",
      "const char filename_14[] PROGMEM = \"dog.wav\";\n",
      "const char filename_15[] PROGMEM = \"dial_up.wav\";\n",
      "const char filename_16[] PROGMEM = \"futuristic_gunshot.wav\";\n",
      "const char filename_17[] PROGMEM = \"\";\n",
      "const char filename_18[] PROGMEM = \"glass.wav\";\n",
      "const char filename_19[] PROGMEM = \"glass.wav\";\n",
      "const char filename_20[] PROGMEM = \"glass.wav\";\n",
      "const char filename_21[] PROGMEM = \"glass.wav\";\n",
      "const char filename_22[] PROGMEM = \"glass.wav\";\n",
      "const char filename_23[] PROGMEM = \"glass.wav\";\n",
      "const char filename_24[] PROGMEM = \"glass.wav\";\n",
      "const char filename_25[] PROGMEM = \"glass.wav\";\n",
      "const char filename_26[] PROGMEM = \"glass.wav\";\n",
      "const char filename_27[] PROGMEM = \"glass.wav\";\n",
      "const char filename_28[] PROGMEM = \"glass.wav\";\n",
      "const char filename_29[] PROGMEM = \"glass.wav\";\n",
      "const char filename_30[] PROGMEM = \"glass.wav\";\n",
      "const char filename_31[] PROGMEM = \"glass.wav\";\n",
      "const char filename_32[] PROGMEM = \"glass.wav\";\n",
      "\n",
      "PGM_P const sound_files[] PROGMEM =\n",
      "{\n",
      "    filename_0,\n",
      "    filename_1,\n",
      "    filename_2,\n",
      "    filename_3,\n",
      "    filename_4,\n",
      "    filename_5,\n",
      "    filename_6,\n",
      "    filename_7,\n",
      "    filename_8,\n",
      "    filename_9,\n",
      "    filename_10,\n",
      "    filename_11,\n",
      "    filename_12,\n",
      "    filename_13,\n",
      "    filename_14,\n",
      "    filename_15,\n",
      "    filename_16,\n",
      "    filename_17,\n",
      "    filename_18,\n",
      "    filename_19,\n",
      "    filename_20,\n",
      "    filename_21,\n",
      "    filename_22,\n",
      "    filename_23,\n",
      "    filename_24,\n",
      "    filename_25,\n",
      "    filename_26,\n",
      "    filename_27,\n",
      "    filename_28,\n",
      "    filename_29,\n",
      "    filename_30,\n",
      "    filename_31,\n",
      "    filename_32\n",
      "};\n"
     ]
    }
   ],
   "source": [
    "for idx, filename in enumerate(files):\n",
    "    print(f\"const char filename_{idx}[] PROGMEM = \\\"{filename}\\\";\")\n",
    "print(\"\")\n",
    "print(\"\"\"PGM_P const sound_files[] PROGMEM =\n",
    "{\"\"\")\n",
    "for idx, _ in enumerate(files):\n",
    "    infix = \"\" if idx==len(files)-1 else \",\"\n",
    "    print(f\"    filename_{idx}{infix}\")\n",
    "print(\"};\")"
   ]
  },
  {
   "cell_type": "code",
   "execution_count": null,
   "metadata": {},
   "outputs": [],
   "source": []
  }
 ],
 "metadata": {
  "kernelspec": {
   "display_name": "Python 3.8.10 ('tf')",
   "language": "python",
   "name": "python3"
  },
  "language_info": {
   "codemirror_mode": {
    "name": "ipython",
    "version": 3
   },
   "file_extension": ".py",
   "mimetype": "text/x-python",
   "name": "python",
   "nbconvert_exporter": "python",
   "pygments_lexer": "ipython3",
   "version": "3.8.10"
  },
  "orig_nbformat": 4,
  "vscode": {
   "interpreter": {
    "hash": "782d74231477481db0ce5522104a44b0c997d4cfe5e40c8b0cc697bad5a4e538"
   }
  }
 },
 "nbformat": 4,
 "nbformat_minor": 2
}
